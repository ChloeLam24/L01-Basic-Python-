{
 "cells": [
  {
   "cell_type": "markdown",
   "metadata": {},
   "source": [
    "### Exercise 1\n",
    "Write a function to extract all even number elemets to a new list.\n",
    "If the input list is [1,6,8,4,7,9,10,15,16,18], the output list should be [6,8,4,10,16,18]"
   ]
  },
  {
   "cell_type": "code",
   "execution_count": 1,
   "metadata": {},
   "outputs": [
    {
     "data": {
      "text/plain": [
       "[6, 8, 4, 10, 16, 18]"
      ]
     },
     "execution_count": 1,
     "metadata": {},
     "output_type": "execute_result"
    }
   ],
   "source": [
    "input_list = [1,6,8,4,7,9,10,15,16,18]\n",
    "\n",
    "def extract_even(input_list):\n",
    "    output_list=[]\n",
    "    for i in input_list:  #go through item \n",
    "        if i%2==0:\n",
    "            output_list.append(i)\n",
    "    return output_list\n",
    "\n",
    "extract_even(input_list)"
   ]
  },
  {
   "cell_type": "markdown",
   "metadata": {},
   "source": [
    "### Exercise 2\n",
    "Write a function to check if a user input string is palindrome. (A palindrome is a string that reads the same forwards and backwards.) Example: Anna, Level, Madam, Mom are palindrom\n"
   ]
  },
  {
   "cell_type": "code",
   "execution_count": 2,
   "metadata": {},
   "outputs": [
    {
     "data": {
      "text/plain": [
       "True"
      ]
     },
     "execution_count": 2,
     "metadata": {},
     "output_type": "execute_result"
    }
   ],
   "source": [
    "input_string = input(\"Enter a string: \")\n",
    "\n",
    "\n",
    "def is_palindrome(input_string):\n",
    "    return input_string == input_string[::-1]\n",
    "\n",
    "is_palindrome(input_string)"
   ]
  },
  {
   "cell_type": "markdown",
   "metadata": {},
   "source": [
    "### Exercise 3\n",
    "Write a function that takes a list and returns a new list that contains all the elements of the first list with no duplicates."
   ]
  },
  {
   "cell_type": "code",
   "execution_count": 3,
   "metadata": {},
   "outputs": [
    {
     "data": {
      "text/plain": [
       "[1, 2, 3, 4, 5, 6]"
      ]
     },
     "execution_count": 3,
     "metadata": {},
     "output_type": "execute_result"
    }
   ],
   "source": [
    "#input_list = [1,2,3,3,3,3,4,5,6]\n",
    "\n",
    "#output_list = [1,2,3,4,5,6]\n",
    "\n",
    "# write a function that from input_list to output_list with no duplicates\n",
    "\n",
    "def no_duplicate_list(input_list):\n",
    "    output_list = []\n",
    "    for i in input_list:\n",
    "        if i not in output_list:\n",
    "            output_list.append(i)\n",
    "    return output_list\n",
    "input_list = [1,2,3,3,3,3,4,5,6]\n",
    "\n",
    "output_list = no_duplicate_list(input_list)\n",
    "\n",
    "output_list\n"
   ]
  },
  {
   "cell_type": "markdown",
   "metadata": {},
   "source": [
    "### Exercise 4\n",
    "Write a function that takes two lists and returns True if they have at least one common member."
   ]
  },
  {
   "cell_type": "code",
   "execution_count": 5,
   "metadata": {},
   "outputs": [
    {
     "data": {
      "text/plain": [
       "True"
      ]
     },
     "execution_count": 5,
     "metadata": {},
     "output_type": "execute_result"
    }
   ],
   "source": [
    "# input_list_1 = [1,2,3,4,5]\n",
    "#input_list_2 = [5,6,7,8,9]\n",
    "\n",
    "#return Ture if input_list_1 and input_list_2 have at least one common member \n",
    "\n",
    "def has_common_member(input_list_1, input_list_2):\n",
    "    for i in input_list_1:\n",
    "        if i in input_list_2:\n",
    "            return True\n",
    "    return False\n",
    "        \n",
    "input_list_1 = [\"a\",'b','c']\n",
    "input_list_2 = ['c','d','e']\n",
    "\n",
    "has_common_member(input_list_1, input_list_2)"
   ]
  },
  {
   "cell_type": "code",
   "execution_count": null,
   "metadata": {},
   "outputs": [],
   "source": []
  }
 ],
 "metadata": {
  "kernelspec": {
   "display_name": "base",
   "language": "python",
   "name": "python3"
  },
  "language_info": {
   "codemirror_mode": {
    "name": "ipython",
    "version": 3
   },
   "file_extension": ".py",
   "mimetype": "text/x-python",
   "name": "python",
   "nbconvert_exporter": "python",
   "pygments_lexer": "ipython3",
   "version": "3.11.7"
  }
 },
 "nbformat": 4,
 "nbformat_minor": 2
}
