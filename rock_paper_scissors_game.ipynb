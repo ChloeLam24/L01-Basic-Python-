{
 "cells": [
  {
   "cell_type": "code",
   "execution_count": null,
   "metadata": {},
   "outputs": [],
   "source": [
    "#A function to play rock paper scissors with computer \n",
    "\n",
    "# step 1: computer randomly chooses rock, paper or scissors\n",
    "#step 2: player input rock, paper or scissors. rock = 0, paper =5, scissors=2\n",
    "#step 3: check if the player input correctly , if not, ask to input again \n",
    "#step 4: set the rule of the game : rock win scissors, scissors wins paper, paper wins rock \n",
    "#step 5: check if computer win or player win \n",
    "#step 6: play continue until player or computer win two times "
   ]
  },
  {
   "cell_type": "code",
   "execution_count": 4,
   "metadata": {},
   "outputs": [
    {
     "name": "stdout",
     "output_type": "stream",
     "text": [
      "5\n"
     ]
    }
   ],
   "source": [
    "#step 1: computer randomly chooses rock, paper or scissors\n",
    "#\"0\" for rock, \"5\" for paper, or \"2\" for scissors\n",
    "\n",
    "import random \n",
    "\n",
    "choices = [\"0\", \"5\", \"2\"]\n",
    "computer_choice = random.choice(choices)\n",
    "\n",
    "print(computer_choice)\n"
   ]
  },
  {
   "cell_type": "code",
   "execution_count": 5,
   "metadata": {},
   "outputs": [
    {
     "name": "stdout",
     "output_type": "stream",
     "text": [
      "Your choice is invalid.Please choose 0, 2 or 5\n",
      "2\n"
     ]
    }
   ],
   "source": [
    "#step 2: player input rock, paper or scissors. rock = 0, paper\n",
    "#step 3: check if the player input correctly , if not, ask to input again \n",
    "\n",
    "choices = [\"0\", \"5\", \"2\"]\n",
    "\n",
    "while True:\n",
    "   player_choice = input(\"Please choose 0, 2 or 5\") \n",
    "   if player_choice in choices:\n",
    "        print(player_choice)  \n",
    "        break\n",
    "   else: \n",
    "        print(\"Your choice is invalid.Please choose 0, 2 or 5\")\n",
    " "
   ]
  },
  {
   "cell_type": "code",
   "execution_count": 6,
   "metadata": {},
   "outputs": [],
   "source": [
    "# step 4: set the rule of the game : rock win scissors, scissors\n",
    "# step 5: check if computer win or player win \n",
    "def determine_winner(player_choice, computer_choice):\n",
    "    if player_choice == computer_choice:\n",
    "        print(\"It's a tie!\")\n",
    "    elif (player_choice == \"rock\" and computer_choice == \"scissors\") or \\\n",
    "         (player_choice == \"scissors\" and computer_choice == \"paper\") or \\\n",
    "         (player_choice == \"paper\" and computer_choice == \"rock\"):\n",
    "         print(f\"Player wins! {player_choice} beats {computer_choice}.\")\n",
    "         \n",
    "    else:\n",
    "        print(f\"Computer wins! {computer_choice} beats {player_choice}.\")\n",
    "        "
   ]
  },
  {
   "cell_type": "code",
   "execution_count": 14,
   "metadata": {},
   "outputs": [
    {
     "name": "stdout",
     "output_type": "stream",
     "text": [
      "Your choice is  5\n",
      "Computer choice is  2\n",
      "Computer wins! 2 beats 5.\n"
     ]
    }
   ],
   "source": [
    "#combine all steps - play one round\n",
    "\n",
    "import random \n",
    "\n",
    "def determine_winner(player_choice, computer_choice):\n",
    "    if player_choice == computer_choice:\n",
    "        print(\"It's a tie!\")\n",
    "    elif (player_choice == \"0\" and computer_choice == \"2\") or \\\n",
    "         (player_choice == \"2\" and computer_choice == \"5\") or \\\n",
    "         (player_choice == \"5\" and computer_choice == \"0\"):\n",
    "        print(f\"Player wins! {player_choice} beats {computer_choice}.\")\n",
    "    else:\n",
    "        print(f\"Computer wins! {computer_choice} beats {player_choice}.\")\n",
    "\n",
    "choices = [\"0\", \"5\", \"2\"]\n",
    "while True:\n",
    "    player_choice = input(\"Please choose 0, 2, or 5: \") \n",
    "    if player_choice in choices:\n",
    "        print(\"Your choice is \",player_choice)  \n",
    "        break\n",
    "    else: \n",
    "        print(\"Your choice is invalid. Please choose 0, 2, or 5.\")\n",
    "\n",
    "computer_choice = random.choice(choices)\n",
    "print(\"Computer choice is \",computer_choice)\n",
    " \n",
    "determine_winner(player_choice, computer_choice)\n"
   ]
  },
  {
   "cell_type": "code",
   "execution_count": 18,
   "metadata": {},
   "outputs": [
    {
     "name": "stdout",
     "output_type": "stream",
     "text": [
      "Your choice is  0\n",
      "Computer choice is  0\n",
      "It's a tie!\n",
      "Your choice is invalid. Please choose 0, 2, or 5.\n",
      "Your choice is  0\n",
      "Computer choice is  2\n",
      "Player wins! 0 beats 2.\n",
      "Your choice is  0\n",
      "Computer choice is  5\n",
      "Computer wins! 5 beats 0.\n",
      "Your choice is  0\n",
      "Computer choice is  5\n",
      "Computer wins! 5 beats 0.\n",
      "Good Game! Computer wins the game! Pls try next time!\n"
     ]
    }
   ],
   "source": [
    "# loop until player or computer win two times \n",
    "\n",
    "import random \n",
    "\n",
    "def determine_winner(player_choice, computer_choice):\n",
    "    if player_choice == computer_choice:\n",
    "        print(\"It's a tie!\")\n",
    "    elif (player_choice == \"0\" and computer_choice == \"2\") or \\\n",
    "         (player_choice == \"2\" and computer_choice == \"5\") or \\\n",
    "         (player_choice == \"5\" and computer_choice == \"0\"):\n",
    "        print(f\"Player wins! {player_choice} beats {computer_choice}.\")\n",
    "        return \"player\"\n",
    "    else:\n",
    "        print(f\"Computer wins! {computer_choice} beats {player_choice}.\")\n",
    "        return \"computer\"\n",
    "\n",
    "choices = [\"0\", \"5\", \"2\"]\n",
    "player_wins = 0\n",
    "computer_wins = 0\n",
    "\n",
    "while player_wins < 2 and computer_wins < 2:\n",
    "    while True:\n",
    "        player_choice = input(\"Please choose 0, 2, or 5: \") \n",
    "        if player_choice in choices:\n",
    "            print(\"Your choice is \", player_choice)  \n",
    "            break\n",
    "        else: \n",
    "            print(\"Your choice is invalid. Please choose 0, 2, or 5.\")\n",
    "\n",
    "    computer_choice = random.choice(choices)\n",
    "    print(\"Computer choice is \", computer_choice)\n",
    "\n",
    "    winner = determine_winner(player_choice, computer_choice)\n",
    "    if winner == \"player\":\n",
    "        player_wins += 1\n",
    "    elif winner == \"computer\":\n",
    "        computer_wins += 1\n",
    "\n",
    "if player_wins > computer_wins:\n",
    "    print(\"Congrats! You win the game!\")\n",
    "else:\n",
    "    print(\"Good Game! Computer wins the game! Pls try next time!\")\n"
   ]
  },
  {
   "cell_type": "code",
   "execution_count": null,
   "metadata": {},
   "outputs": [],
   "source": []
  }
 ],
 "metadata": {
  "kernelspec": {
   "display_name": "base",
   "language": "python",
   "name": "python3"
  },
  "language_info": {
   "codemirror_mode": {
    "name": "ipython",
    "version": 3
   },
   "file_extension": ".py",
   "mimetype": "text/x-python",
   "name": "python",
   "nbconvert_exporter": "python",
   "pygments_lexer": "ipython3",
   "version": "3.11.7"
  }
 },
 "nbformat": 4,
 "nbformat_minor": 2
}
