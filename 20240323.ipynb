{
 "cells": [
  {
   "cell_type": "code",
   "execution_count": 1,
   "metadata": {},
   "outputs": [
    {
     "name": "stdout",
     "output_type": "stream",
     "text": [
      "[1, 3, 5, 15] is the divisors of  15\n"
     ]
    }
   ],
   "source": [
    "# Homework\n",
    "#Write a function to prints out a list of all the divisors of a user input number. \n",
    "#A divisor is a number that divides into another number without a remainder. \n",
    "#For example, 1,3,5,15 is the divisors of 15.\n",
    "\n",
    "\n",
    "def a(number):\n",
    "    b=[]\n",
    "    for i in range(1,number+1):\n",
    "        if number%i==0:\n",
    "            b.append(i)\n",
    "    return (b)\n",
    "    \n",
    "number=int(input(\"Please enter a number\"))\n",
    "print(a(number),\"is the divisors of \",number)"
   ]
  },
  {
   "cell_type": "markdown",
   "metadata": {},
   "source": [
    "# Homework\n",
    "Write a function to prints out a list of all the divisors of a user input number. \n",
    "A divisor is a number that divides into another number without a remainder. \n",
    "For example, 1,3,5,15 is the divisors of 15."
   ]
  }
 ],
 "metadata": {
  "kernelspec": {
   "display_name": "base",
   "language": "python",
   "name": "python3"
  },
  "language_info": {
   "codemirror_mode": {
    "name": "ipython",
    "version": 3
   },
   "file_extension": ".py",
   "mimetype": "text/x-python",
   "name": "python",
   "nbconvert_exporter": "python",
   "pygments_lexer": "ipython3",
   "version": "3.11.7"
  }
 },
 "nbformat": 4,
 "nbformat_minor": 2
}
